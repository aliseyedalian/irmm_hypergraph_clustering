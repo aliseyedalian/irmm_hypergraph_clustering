{
 "cells": [
  {
   "cell_type": "code",
   "execution_count": 5,
   "id": "2e24b619",
   "metadata": {},
   "outputs": [],
   "source": [
    "from kumar import irmm\n",
    "import numpy as np"
   ]
  },
  {
   "cell_type": "code",
   "execution_count": 6,
   "id": "c33be410",
   "metadata": {},
   "outputs": [],
   "source": [
    "H1 = np.array([  \n",
    "    [1,1,0,0],\n",
    "    [1,0,1,0],\n",
    "    [0,1,1,0],\n",
    "    [0,0,1,0],\n",
    "    [0,1,0,1],\n",
    "    [0,1,0,1],\n",
    "    [0,1,0,0]\n",
    "]) "
   ]
  },
  {
   "cell_type": "code",
   "execution_count": 7,
   "id": "fbdd213e",
   "metadata": {},
   "outputs": [
    {
     "name": "stdout",
     "output_type": "stream",
     "text": [
      "{0: 0, 1: 0, 2: 0, 3: 0, 4: 1, 5: 1, 6: 1}\n"
     ]
    }
   ],
   "source": [
    "print(irmm(H=H1,W=[1,2,1,1.5]))"
   ]
  },
  {
   "cell_type": "code",
   "execution_count": null,
   "id": "1f89f378",
   "metadata": {},
   "outputs": [],
   "source": []
  }
 ],
 "metadata": {
  "kernelspec": {
   "display_name": "Python 3 (ipykernel)",
   "language": "python",
   "name": "python3"
  },
  "language_info": {
   "codemirror_mode": {
    "name": "ipython",
    "version": 3
   },
   "file_extension": ".py",
   "mimetype": "text/x-python",
   "name": "python",
   "nbconvert_exporter": "python",
   "pygments_lexer": "ipython3",
   "version": "3.9.5"
  }
 },
 "nbformat": 4,
 "nbformat_minor": 5
}
